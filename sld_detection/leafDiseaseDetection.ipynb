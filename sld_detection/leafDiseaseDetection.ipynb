{
 "cells": [
  {
   "cell_type": "code",
   "execution_count": 1,
   "id": "4d0cdfad",
   "metadata": {},
   "outputs": [],
   "source": [
    "\n",
    "import tensorflow as tf\n",
    "from tensorflow.python.client import device_lib\n",
    "from tensorflow.keras import models,layers\n",
    "import matplotlib.pyplot as plt\n",
    "import numpy as np"
   ]
  },
  {
   "cell_type": "code",
   "execution_count": 2,
   "id": "e95fb514",
   "metadata": {},
   "outputs": [
    {
     "name": "stdout",
     "output_type": "stream",
     "text": [
      "Num GPUs Available:  1\n"
     ]
    }
   ],
   "source": [
    "\n",
    "print(\"Num GPUs Available: \", len(tf.config.list_physical_devices('GPU')))"
   ]
  },
  {
   "cell_type": "code",
   "execution_count": 3,
   "id": "8eb67558",
   "metadata": {},
   "outputs": [],
   "source": [
    "IMAGE_SIZE = 256\n",
    "BATCH_SIZE = 64\n",
    "CHANNELS = 3\n",
    "EPOCHS=24"
   ]
  },
  {
   "cell_type": "code",
   "execution_count": 4,
   "id": "08b2c2dc",
   "metadata": {},
   "outputs": [
    {
     "name": "stdout",
     "output_type": "stream",
     "text": [
      "Found 1907 files belonging to 5 classes.\n"
     ]
    }
   ],
   "source": [
    "dataset = tf.keras.preprocessing.image_dataset_from_directory(\n",
    "    \"Strawberry Leaf Dataset\",\n",
    "    shuffle=True,\n",
    "    image_size = (IMAGE_SIZE,IMAGE_SIZE),\n",
    "    batch_size = BATCH_SIZE\n",
    ")"
   ]
  },
  {
   "cell_type": "code",
   "execution_count": 5,
   "id": "55c9472c",
   "metadata": {},
   "outputs": [
    {
     "data": {
      "text/plain": [
       "['Cercospora Leaf Spot',\n",
       " 'Common Leaf Spot',\n",
       " 'Healthy',\n",
       " 'Leaf Blight',\n",
       " 'Leaf Scortch']"
      ]
     },
     "execution_count": 5,
     "metadata": {},
     "output_type": "execute_result"
    }
   ],
   "source": [
    "class_names = dataset.class_names\n",
    "class_names"
   ]
  },
  {
   "cell_type": "code",
   "execution_count": 6,
   "id": "049a226a",
   "metadata": {},
   "outputs": [
    {
     "data": {
      "text/plain": [
       "30"
      ]
     },
     "execution_count": 6,
     "metadata": {},
     "output_type": "execute_result"
    }
   ],
   "source": [
    "len(dataset)"
   ]
  },
  {
   "cell_type": "code",
   "execution_count": 7,
   "id": "cbbf5864",
   "metadata": {},
   "outputs": [],
   "source": [
    "def get_dataset_partitions_tf(ds, train_split=0.8, val_split=0.1, test_split=0.1,shuffle=True, shuffle_size=10000):\n",
    "    \n",
    "    ds_size=len(ds)\n",
    "    \n",
    "    if shuffle:\n",
    "        ds = ds.shuffle(shuffle_size, seed=12)\n",
    "        \n",
    "    train_size = int(train_split * ds_size)\n",
    "    val_size = int(val_split * ds_size)\n",
    "    \n",
    "    train_ds = ds.take(train_size)\n",
    "    \n",
    "    val_ds = ds.skip(train_size).take(val_size)\n",
    "    test_ds = ds.skip(train_size).skip(val_size)\n",
    "    return train_ds, val_ds, test_ds\n"
   ]
  },
  {
   "cell_type": "code",
   "execution_count": 8,
   "id": "9d49038e",
   "metadata": {},
   "outputs": [],
   "source": [
    "train_ds, val_ds, test_ds = get_dataset_partitions_tf(dataset)"
   ]
  },
  {
   "cell_type": "code",
   "execution_count": 9,
   "id": "6becf8c5",
   "metadata": {},
   "outputs": [
    {
     "data": {
      "text/plain": [
       "24"
      ]
     },
     "execution_count": 9,
     "metadata": {},
     "output_type": "execute_result"
    }
   ],
   "source": [
    "len(train_ds)"
   ]
  },
  {
   "cell_type": "code",
   "execution_count": 10,
   "id": "f2c1e93c",
   "metadata": {},
   "outputs": [
    {
     "data": {
      "text/plain": [
       "3"
      ]
     },
     "execution_count": 10,
     "metadata": {},
     "output_type": "execute_result"
    }
   ],
   "source": [
    "len(val_ds)"
   ]
  },
  {
   "cell_type": "code",
   "execution_count": 11,
   "id": "fbf80212",
   "metadata": {},
   "outputs": [
    {
     "data": {
      "text/plain": [
       "3"
      ]
     },
     "execution_count": 11,
     "metadata": {},
     "output_type": "execute_result"
    }
   ],
   "source": [
    "len(test_ds)"
   ]
  },
  {
   "cell_type": "code",
   "execution_count": 12,
   "id": "07f80d43",
   "metadata": {},
   "outputs": [],
   "source": [
    "train_ds = train_ds.cache().shuffle(1000).prefetch(buffer_size=tf.data.AUTOTUNE)\n",
    "val_ds = val_ds.cache().shuffle(1000).prefetch(buffer_size=tf.data.AUTOTUNE)\n",
    "test_ds = test_ds.cache().shuffle(1000).prefetch(buffer_size=tf.data.AUTOTUNE)"
   ]
  },
  {
   "cell_type": "code",
   "execution_count": null,
   "id": "fae5536a",
   "metadata": {},
   "outputs": [],
   "source": []
  },
  {
   "cell_type": "code",
   "execution_count": 13,
   "id": "e99b6a64",
   "metadata": {},
   "outputs": [],
   "source": [
    "resize_and_rescale = tf.keras.Sequential([\n",
    "    layers.experimental.preprocessing.Resizing(IMAGE_SIZE, IMAGE_SIZE),\n",
    "    layers.experimental.preprocessing.Rescaling(1.0/255)\n",
    "])"
   ]
  },
  {
   "cell_type": "code",
   "execution_count": 14,
   "id": "b13efe09",
   "metadata": {},
   "outputs": [],
   "source": [
    "data_augmentation = tf.keras.Sequential([\n",
    "    layers.experimental.preprocessing.RandomFlip(\"horizontal_and_vertical\"),\n",
    "    layers.experimental.preprocessing.RandomRotation(0.2)\n",
    "])"
   ]
  },
  {
   "cell_type": "code",
   "execution_count": 15,
   "id": "4c1a24a0",
   "metadata": {},
   "outputs": [],
   "source": [
    "input_shape = (BATCH_SIZE, IMAGE_SIZE, IMAGE_SIZE, CHANNELS)\n",
    "n_classes = 10\n",
    "def create_model():\n",
    "    model = models.Sequential([\n",
    "        resize_and_rescale,\n",
    "        layers.Conv2D(32, kernel_size = (3,3), activation='relu', input_shape=input_shape),\n",
    "        layers.MaxPooling2D((2, 2)),\n",
    "        layers.Conv2D(64,  kernel_size = (3,3), activation='relu'),\n",
    "        layers.MaxPooling2D((2, 2)),\n",
    "        layers.Conv2D(64,  kernel_size = (3,3), activation='relu'),\n",
    "        layers.Dropout(0.5),\n",
    "        layers.MaxPooling2D((2, 2)),\n",
    "        layers.Conv2D(64, (3, 3), activation='relu'),\n",
    "        layers.MaxPooling2D((2, 2)),\n",
    "        layers.Conv2D(64, (3, 3), activation='relu'),\n",
    "        layers.MaxPooling2D((2, 2)),\n",
    "        layers.Conv2D(64, (3, 3), activation='relu'),\n",
    "        layers.MaxPooling2D((2, 2)),\n",
    "        layers.Flatten(),\n",
    "        layers.Dense(64, activation='relu'),\n",
    "        layers.Dense(n_classes, activation='softmax'),\n",
    "    ])\n",
    "    \n",
    "    model.compile(\n",
    "        optimizer='adam',\n",
    "        loss=tf.keras.losses.SparseCategoricalCrossentropy(from_logits=False),\n",
    "        metrics=['accuracy']\n",
    "    )\n",
    "    return model\n",
    "\n",
    "model = create_model()\n",
    "    \n",
    "model.build(input_shape=input_shape)"
   ]
  },
  {
   "cell_type": "code",
   "execution_count": 16,
   "id": "c7cd4500",
   "metadata": {
    "scrolled": true
   },
   "outputs": [
    {
     "name": "stdout",
     "output_type": "stream",
     "text": [
      "Model: \"sequential_2\"\n",
      "_________________________________________________________________\n",
      " Layer (type)                Output Shape              Param #   \n",
      "=================================================================\n",
      " sequential (Sequential)     (64, 256, 256, 3)         0         \n",
      "                                                                 \n",
      " conv2d (Conv2D)             (64, 254, 254, 32)        896       \n",
      "                                                                 \n",
      " max_pooling2d (MaxPooling2D  (64, 127, 127, 32)       0         \n",
      " )                                                               \n",
      "                                                                 \n",
      " conv2d_1 (Conv2D)           (64, 125, 125, 64)        18496     \n",
      "                                                                 \n",
      " max_pooling2d_1 (MaxPooling  (64, 62, 62, 64)         0         \n",
      " 2D)                                                             \n",
      "                                                                 \n",
      " conv2d_2 (Conv2D)           (64, 60, 60, 64)          36928     \n",
      "                                                                 \n",
      " dropout (Dropout)           (64, 60, 60, 64)          0         \n",
      "                                                                 \n",
      " max_pooling2d_2 (MaxPooling  (64, 30, 30, 64)         0         \n",
      " 2D)                                                             \n",
      "                                                                 \n",
      " conv2d_3 (Conv2D)           (64, 28, 28, 64)          36928     \n",
      "                                                                 \n",
      " max_pooling2d_3 (MaxPooling  (64, 14, 14, 64)         0         \n",
      " 2D)                                                             \n",
      "                                                                 \n",
      " conv2d_4 (Conv2D)           (64, 12, 12, 64)          36928     \n",
      "                                                                 \n",
      " max_pooling2d_4 (MaxPooling  (64, 6, 6, 64)           0         \n",
      " 2D)                                                             \n",
      "                                                                 \n",
      " conv2d_5 (Conv2D)           (64, 4, 4, 64)            36928     \n",
      "                                                                 \n",
      " max_pooling2d_5 (MaxPooling  (64, 2, 2, 64)           0         \n",
      " 2D)                                                             \n",
      "                                                                 \n",
      " flatten (Flatten)           (64, 256)                 0         \n",
      "                                                                 \n",
      " dense (Dense)               (64, 64)                  16448     \n",
      "                                                                 \n",
      " dense_1 (Dense)             (64, 10)                  650       \n",
      "                                                                 \n",
      "=================================================================\n",
      "Total params: 184,202\n",
      "Trainable params: 184,202\n",
      "Non-trainable params: 0\n",
      "_________________________________________________________________\n"
     ]
    }
   ],
   "source": [
    "model.summary()"
   ]
  },
  {
   "cell_type": "code",
   "execution_count": 17,
   "id": "bf6760ab",
   "metadata": {},
   "outputs": [],
   "source": [
    "\n",
    "import os\n",
    "checkpoint_path = \"training_1/cp.ckpt\"\n",
    "checkpoint_dir = os.path.dirname(checkpoint_path)\n",
    "\n",
    "cp_callback = tf.keras.callbacks.ModelCheckpoint(filepath=checkpoint_path,save_weights_only=True,verbose=1)\n"
   ]
  },
  {
   "cell_type": "code",
   "execution_count": 18,
   "id": "fde57d43",
   "metadata": {
    "scrolled": true
   },
   "outputs": [
    {
     "name": "stdout",
     "output_type": "stream",
     "text": [
      "Epoch 1/24\n",
      "24/24 [==============================] - ETA: 0s - loss: 1.7271 - accuracy: 0.2653\n",
      "Epoch 1: saving model to training_1\\cp.ckpt\n",
      "24/24 [==============================] - 16s 251ms/step - loss: 1.7271 - accuracy: 0.2653 - val_loss: 1.6797 - val_accuracy: 0.3542\n",
      "Epoch 2/24\n",
      "24/24 [==============================] - ETA: 0s - loss: 1.2964 - accuracy: 0.4399\n",
      "Epoch 2: saving model to training_1\\cp.ckpt\n",
      "24/24 [==============================] - 3s 127ms/step - loss: 1.2964 - accuracy: 0.4399 - val_loss: 1.2250 - val_accuracy: 0.5469\n",
      "Epoch 3/24\n",
      "24/24 [==============================] - ETA: 0s - loss: 0.9235 - accuracy: 0.5995\n",
      "Epoch 3: saving model to training_1\\cp.ckpt\n",
      "24/24 [==============================] - 3s 128ms/step - loss: 0.9235 - accuracy: 0.5995 - val_loss: 0.9484 - val_accuracy: 0.6719\n",
      "Epoch 4/24\n",
      "24/24 [==============================] - ETA: 0s - loss: 0.7641 - accuracy: 0.6671\n",
      "Epoch 4: saving model to training_1\\cp.ckpt\n",
      "24/24 [==============================] - 3s 127ms/step - loss: 0.7641 - accuracy: 0.6671 - val_loss: 0.7995 - val_accuracy: 0.6875\n",
      "Epoch 5/24\n",
      "24/24 [==============================] - ETA: 0s - loss: 0.7648 - accuracy: 0.6861\n",
      "Epoch 5: saving model to training_1\\cp.ckpt\n",
      "24/24 [==============================] - 3s 127ms/step - loss: 0.7648 - accuracy: 0.6861 - val_loss: 0.8181 - val_accuracy: 0.6823\n",
      "Epoch 6/24\n",
      "24/24 [==============================] - ETA: 0s - loss: 0.6938 - accuracy: 0.7223\n",
      "Epoch 6: saving model to training_1\\cp.ckpt\n",
      "24/24 [==============================] - 3s 127ms/step - loss: 0.6938 - accuracy: 0.7223 - val_loss: 0.8064 - val_accuracy: 0.7135\n",
      "Epoch 7/24\n",
      "24/24 [==============================] - ETA: 0s - loss: 0.5922 - accuracy: 0.7525\n",
      "Epoch 7: saving model to training_1\\cp.ckpt\n",
      "24/24 [==============================] - 3s 128ms/step - loss: 0.5922 - accuracy: 0.7525 - val_loss: 0.6832 - val_accuracy: 0.7656\n",
      "Epoch 8/24\n",
      "24/24 [==============================] - ETA: 0s - loss: 0.5344 - accuracy: 0.7886\n",
      "Epoch 8: saving model to training_1\\cp.ckpt\n",
      "24/24 [==============================] - 3s 128ms/step - loss: 0.5344 - accuracy: 0.7886 - val_loss: 0.7432 - val_accuracy: 0.7083\n",
      "Epoch 9/24\n",
      "24/24 [==============================] - ETA: 0s - loss: 0.5040 - accuracy: 0.8076\n",
      "Epoch 9: saving model to training_1\\cp.ckpt\n",
      "24/24 [==============================] - 3s 128ms/step - loss: 0.5040 - accuracy: 0.8076 - val_loss: 0.5217 - val_accuracy: 0.8333\n",
      "Epoch 10/24\n",
      "24/24 [==============================] - ETA: 0s - loss: 0.4050 - accuracy: 0.8431\n",
      "Epoch 10: saving model to training_1\\cp.ckpt\n",
      "24/24 [==============================] - 3s 128ms/step - loss: 0.4050 - accuracy: 0.8431 - val_loss: 0.4723 - val_accuracy: 0.8385\n",
      "Epoch 11/24\n",
      "24/24 [==============================] - ETA: 0s - loss: 0.4108 - accuracy: 0.8477\n",
      "Epoch 11: saving model to training_1\\cp.ckpt\n",
      "24/24 [==============================] - 3s 129ms/step - loss: 0.4108 - accuracy: 0.8477 - val_loss: 0.6010 - val_accuracy: 0.8438\n",
      "Epoch 12/24\n",
      "24/24 [==============================] - ETA: 0s - loss: 0.3428 - accuracy: 0.8746\n",
      "Epoch 12: saving model to training_1\\cp.ckpt\n",
      "24/24 [==============================] - 3s 128ms/step - loss: 0.3428 - accuracy: 0.8746 - val_loss: 0.3555 - val_accuracy: 0.9167\n",
      "Epoch 13/24\n",
      "24/24 [==============================] - ETA: 0s - loss: 0.2530 - accuracy: 0.9081\n",
      "Epoch 13: saving model to training_1\\cp.ckpt\n",
      "24/24 [==============================] - 3s 129ms/step - loss: 0.2530 - accuracy: 0.9081 - val_loss: 0.3607 - val_accuracy: 0.9062\n",
      "Epoch 14/24\n",
      "24/24 [==============================] - ETA: 0s - loss: 0.2115 - accuracy: 0.9199\n",
      "Epoch 14: saving model to training_1\\cp.ckpt\n",
      "24/24 [==============================] - 3s 129ms/step - loss: 0.2115 - accuracy: 0.9199 - val_loss: 0.2136 - val_accuracy: 0.9531\n",
      "Epoch 15/24\n",
      "24/24 [==============================] - ETA: 0s - loss: 0.1546 - accuracy: 0.9448\n",
      "Epoch 15: saving model to training_1\\cp.ckpt\n",
      "24/24 [==============================] - 3s 128ms/step - loss: 0.1546 - accuracy: 0.9448 - val_loss: 0.1996 - val_accuracy: 0.9688\n",
      "Epoch 16/24\n",
      "24/24 [==============================] - ETA: 0s - loss: 0.1405 - accuracy: 0.9534\n",
      "Epoch 16: saving model to training_1\\cp.ckpt\n",
      "24/24 [==============================] - 3s 130ms/step - loss: 0.1405 - accuracy: 0.9534 - val_loss: 0.2040 - val_accuracy: 0.9635\n",
      "Epoch 17/24\n",
      "24/24 [==============================] - ETA: 0s - loss: 0.1532 - accuracy: 0.9501\n",
      "Epoch 17: saving model to training_1\\cp.ckpt\n",
      "24/24 [==============================] - 3s 129ms/step - loss: 0.1532 - accuracy: 0.9501 - val_loss: 0.3022 - val_accuracy: 0.9010\n",
      "Epoch 18/24\n",
      "24/24 [==============================] - ETA: 0s - loss: 0.3787 - accuracy: 0.8615\n",
      "Epoch 18: saving model to training_1\\cp.ckpt\n",
      "24/24 [==============================] - 3s 129ms/step - loss: 0.3787 - accuracy: 0.8615 - val_loss: 0.4241 - val_accuracy: 0.9167\n",
      "Epoch 19/24\n",
      "24/24 [==============================] - ETA: 0s - loss: 0.1696 - accuracy: 0.9448\n",
      "Epoch 19: saving model to training_1\\cp.ckpt\n",
      "24/24 [==============================] - 3s 129ms/step - loss: 0.1696 - accuracy: 0.9448 - val_loss: 0.2003 - val_accuracy: 0.9635\n",
      "Epoch 20/24\n",
      "24/24 [==============================] - ETA: 0s - loss: 0.1446 - accuracy: 0.9521\n",
      "Epoch 20: saving model to training_1\\cp.ckpt\n",
      "24/24 [==============================] - 3s 130ms/step - loss: 0.1446 - accuracy: 0.9521 - val_loss: 0.1783 - val_accuracy: 0.9688\n",
      "Epoch 21/24\n",
      "24/24 [==============================] - ETA: 0s - loss: 0.0589 - accuracy: 0.9796\n",
      "Epoch 21: saving model to training_1\\cp.ckpt\n",
      "24/24 [==============================] - 3s 129ms/step - loss: 0.0589 - accuracy: 0.9796 - val_loss: 0.1588 - val_accuracy: 0.9635\n",
      "Epoch 22/24\n",
      "24/24 [==============================] - ETA: 0s - loss: 0.0691 - accuracy: 0.9757\n",
      "Epoch 22: saving model to training_1\\cp.ckpt\n",
      "24/24 [==============================] - 3s 130ms/step - loss: 0.0691 - accuracy: 0.9757 - val_loss: 0.1249 - val_accuracy: 0.9896\n",
      "Epoch 23/24\n",
      "24/24 [==============================] - ETA: 0s - loss: 0.0684 - accuracy: 0.9816\n",
      "Epoch 23: saving model to training_1\\cp.ckpt\n",
      "24/24 [==============================] - 3s 130ms/step - loss: 0.0684 - accuracy: 0.9816 - val_loss: 0.1177 - val_accuracy: 0.9844\n",
      "Epoch 24/24\n",
      "24/24 [==============================] - ETA: 0s - loss: 0.0228 - accuracy: 0.9941\n",
      "Epoch 24: saving model to training_1\\cp.ckpt\n",
      "24/24 [==============================] - 3s 130ms/step - loss: 0.0228 - accuracy: 0.9941 - val_loss: 0.1035 - val_accuracy: 0.9896\n"
     ]
    }
   ],
   "source": [
    "history = model.fit(train_ds,\n",
    "    epochs=EPOCHS,\n",
    "    batch_size=BATCH_SIZE,\n",
    "    verbose=1,\n",
    "    validation_data=val_ds,\n",
    "    callbacks=[cp_callback]\n",
    ")"
   ]
  },
  {
   "cell_type": "code",
   "execution_count": 19,
   "id": "96f6049b",
   "metadata": {
    "scrolled": true
   },
   "outputs": [],
   "source": [
    "\n",
    "import pickle\n",
    "with open('trainHistoryDict', 'wb') as file_pi:\n",
    "    pickle.dump(history.history, file_pi)"
   ]
  },
  {
   "cell_type": "code",
   "execution_count": null,
   "id": "8f4f4499",
   "metadata": {},
   "outputs": [],
   "source": []
  },
  {
   "cell_type": "code",
   "execution_count": 20,
   "id": "6b045dd1",
   "metadata": {},
   "outputs": [],
   "source": [
    "import pickle\n",
    "with open('trainHistoryDict', \"rb\") as file_pi:\n",
    "    history = pickle.load(file_pi)"
   ]
  },
  {
   "cell_type": "code",
   "execution_count": 21,
   "id": "cefbc9f7",
   "metadata": {
    "scrolled": true
   },
   "outputs": [
    {
     "data": {
      "text/plain": [
       "['checkpoint', 'cp.ckpt.data-00000-of-00001', 'cp.ckpt.index']"
      ]
     },
     "execution_count": 21,
     "metadata": {},
     "output_type": "execute_result"
    }
   ],
   "source": [
    "import os\n",
    "os.listdir(checkpoint_dir)"
   ]
  },
  {
   "cell_type": "code",
   "execution_count": 22,
   "id": "00771c16",
   "metadata": {},
   "outputs": [
    {
     "data": {
      "text/plain": [
       "'training_1\\\\cp.ckpt'"
      ]
     },
     "execution_count": 22,
     "metadata": {},
     "output_type": "execute_result"
    }
   ],
   "source": [
    "latest = tf.train.latest_checkpoint(checkpoint_dir)\n",
    "latest"
   ]
  },
  {
   "cell_type": "code",
   "execution_count": 23,
   "id": "2ce124b8",
   "metadata": {},
   "outputs": [
    {
     "data": {
      "text/plain": [
       "<tensorflow.python.checkpoint.checkpoint.CheckpointLoadStatus at 0x1917ba8da20>"
      ]
     },
     "execution_count": 23,
     "metadata": {},
     "output_type": "execute_result"
    }
   ],
   "source": [
    "model = create_model()\n",
    "model.load_weights(latest)"
   ]
  },
  {
   "cell_type": "code",
   "execution_count": 24,
   "id": "a9f23637",
   "metadata": {
    "scrolled": true
   },
   "outputs": [
    {
     "name": "stdout",
     "output_type": "stream",
     "text": [
      "3/3 [==============================] - 2s 63ms/step - loss: 0.1075 - accuracy: 0.9832\n"
     ]
    }
   ],
   "source": [
    "scores = model.evaluate(test_ds)"
   ]
  },
  {
   "cell_type": "code",
   "execution_count": 25,
   "id": "49e01886",
   "metadata": {
    "scrolled": true
   },
   "outputs": [],
   "source": [
    "acc = history['accuracy']\n",
    "val_acc = history['val_accuracy']\n",
    "loss = history['loss']\n",
    "val_loss = history['val_loss']"
   ]
  },
  {
   "cell_type": "code",
   "execution_count": 26,
   "id": "dbd80215",
   "metadata": {},
   "outputs": [
    {
     "data": {
      "image/png": "[encoded data removed]",
      "text/plain": [
       "<Figure size 800x800 with 2 Axes>"
      ]
     },
     "metadata": {},
     "output_type": "display_data"
    }
   ],
   "source": [
    "plt.figure(figsize=(8, 8))\n",
    "plt.subplot(1, 2, 1)\n",
    "plt.plot(range(EPOCHS), acc, label='Training Accuracy')\n",
    "plt.plot(range(EPOCHS), val_acc, label='Validation Accuracy')\n",
    "plt.legend(loc='lower right')\n",
    "plt.title('Training and Validation Accuracy')\n",
    "\n",
    "plt.subplot(1, 2, 2)\n",
    "plt.plot(range(EPOCHS), loss, label='Training Loss')\n",
    "plt.plot(range(EPOCHS), val_loss, label='Validation Loss')\n",
    "plt.legend(loc='upper right')\n",
    "plt.title('Training and Validation Loss')\n",
    "plt.show()"
   ]
  },
  {
   "cell_type": "code",
   "execution_count": 27,
   "id": "0d13d121",
   "metadata": {},
   "outputs": [],
   "source": [
    "def predict(model, img):\n",
    "    img_array = tf.keras.preprocessing.image.img_to_array(images[i].numpy())\n",
    "    img_array = tf.expand_dims(img_array, 0)\n",
    "\n",
    "    predictions = model.predict(img_array)\n",
    "\n",
    "    predicted_class = class_names[np.argmax(predictions[0])]\n",
    "    confidence = round(100 * (np.max(predictions[0])), 2)\n",
    "    return predicted_class, confidence"
   ]
  },
  {
   "cell_type": "code",
   "execution_count": 47,
   "id": "b16bac74",
   "metadata": {},
   "outputs": [
    {
     "name": "stdout",
     "output_type": "stream",
     "text": [
      "1/1 [==============================] - 0s 23ms/step\n",
      "1/1 [==============================] - 0s 22ms/step\n",
      "1/1 [==============================] - 0s 26ms/step\n",
      "1/1 [==============================] - 0s 24ms/step\n",
      "1/1 [==============================] - 0s 24ms/step\n",
      "1/1 [==============================] - 0s 24ms/step\n",
      "1/1 [==============================] - 0s 22ms/step\n",
      "1/1 [==============================] - 0s 23ms/step\n",
      "1/1 [==============================] - 0s 22ms/step\n",
      "1/1 [==============================] - 0s 23ms/step\n",
      "1/1 [==============================] - 0s 23ms/step\n",
      "1/1 [==============================] - 0s 23ms/step\n",
      "1/1 [==============================] - 0s 22ms/step\n",
      "1/1 [==============================] - 0s 24ms/step\n",
      "1/1 [==============================] - 0s 23ms/step\n",
      "1/1 [==============================] - 0s 23ms/step\n",
      "1/1 [==============================] - 0s 26ms/step\n",
      "1/1 [==============================] - 0s 24ms/step\n",
      "1/1 [==============================] - 0s 21ms/step\n",
      "1/1 [==============================] - 0s 26ms/step\n",
      "1/1 [==============================] - 0s 23ms/step\n",
      "1/1 [==============================] - 0s 25ms/step\n",
      "1/1 [==============================] - 0s 24ms/step\n",
      "1/1 [==============================] - 0s 23ms/step\n",
      "1/1 [==============================] - 0s 23ms/step\n",
      "1/1 [==============================] - 0s 22ms/step\n",
      "1/1 [==============================] - 0s 23ms/step\n",
      "1/1 [==============================] - 0s 23ms/step\n",
      "1/1 [==============================] - 0s 24ms/step\n",
      "1/1 [==============================] - 0s 23ms/step\n",
      "1/1 [==============================] - 0s 24ms/step\n",
      "1/1 [==============================] - 0s 23ms/step\n",
      "1/1 [==============================] - 0s 24ms/step\n",
      "1/1 [==============================] - 0s 22ms/step\n",
      "1/1 [==============================] - 0s 23ms/step\n",
      "1/1 [==============================] - 0s 23ms/step\n",
      "1/1 [==============================] - 0s 23ms/step\n",
      "1/1 [==============================] - 0s 23ms/step\n",
      "1/1 [==============================] - 0s 22ms/step\n",
      "1/1 [==============================] - 0s 24ms/step\n",
      "1/1 [==============================] - 0s 23ms/step\n",
      "1/1 [==============================] - 0s 24ms/step\n",
      "1/1 [==============================] - 0s 24ms/step\n",
      "1/1 [==============================] - 0s 22ms/step\n",
      "1/1 [==============================] - 0s 23ms/step\n",
      "1/1 [==============================] - 0s 23ms/step\n",
      "1/1 [==============================] - 0s 23ms/step\n",
      "1/1 [==============================] - 0s 24ms/step\n",
      "1/1 [==============================] - 0s 24ms/step\n",
      "1/1 [==============================] - 0s 24ms/step\n",
      "1/1 [==============================] - 0s 24ms/step\n",
      "1/1 [==============================] - 0s 24ms/step\n",
      "1/1 [==============================] - 0s 23ms/step\n",
      "1/1 [==============================] - 0s 23ms/step\n",
      "1/1 [==============================] - 0s 22ms/step\n",
      "1/1 [==============================] - 0s 33ms/step\n",
      "1/1 [==============================] - 0s 23ms/step\n",
      "1/1 [==============================] - 0s 23ms/step\n",
      "1/1 [==============================] - 0s 21ms/step\n",
      "1/1 [==============================] - 0s 23ms/step\n"
     ]
    },
    {
     "data": {
      "image/png": "[encoded data removed]",
      "text/plain": [
       "<Figure size 1500x1500 with 1 Axes>"
      ]
     },
     "metadata": {},
     "output_type": "display_data"
    }
   ],
   "source": [
    "plt.figure(figsize=(15, 15))\n",
    "predicted_labels = []\n",
    "actual_labels = []\n",
    "for images, labels in test_ds:\n",
    "    for i in range(20):\n",
    "        # ax = plt.subplot(3, 3, i + 1)\n",
    "        # plt.imshow(images[i].numpy().astype(\"uint8\"))\n",
    "        \n",
    "        predicted_class, confidence = predict(model, images[i].numpy())\n",
    "        actual_class = class_names[labels[i]\n",
    "                                  ] \n",
    "        predicted_labels.append(predicted_class)\n",
    "        actual_labels.append(actual_class)\n",
    "        \n",
    "        plt.title(f\"Actual: {actual_class},\\n Predicted: {predicted_class}.\\n Confidence: {confidence}%\")\n",
    "        \n",
    "        plt.axis(\"off\")"
   ]
  },
  {
   "cell_type": "code",
   "execution_count": null,
   "id": "23730a76-5186-416a-9b5d-a599eaab708c",
   "metadata": {},
   "outputs": [],
   "source": []
  },
  {
   "cell_type": "code",
   "execution_count": 48,
   "id": "b9b6a89d",
   "metadata": {},
   "outputs": [],
   "source": [
    "\n",
    "from mlxtend.plotting import plot_confusion_matrix\n",
    "from sklearn.metrics import confusion_matrix, classification_report"
   ]
  },
  {
   "cell_type": "code",
   "execution_count": 49,
   "id": "236ea631",
   "metadata": {},
   "outputs": [],
   "source": [
    "cm=confusion_matrix(y_true=actual_labels, y_pred=predicted_labels)"
   ]
  },
  {
   "cell_type": "code",
   "execution_count": 50,
   "id": "6d6c52e1",
   "metadata": {
    "scrolled": true
   },
   "outputs": [
    {
     "data": {
      "text/plain": [
       "(<Figure size 800x800 with 1 Axes>,\n",
       " <Axes: xlabel='predicted label', ylabel='true label'>)"
      ]
     },
     "execution_count": 50,
     "metadata": {},
     "output_type": "execute_result"
    },
    {
     "data": {
      "image/png": "[encoded data removed]",
      "text/plain": [
       "<Figure size 800x800 with 1 Axes>"
      ]
     },
     "metadata": {},
     "output_type": "display_data"
    }
   ],
   "source": [
    "plot_confusion_matrix(conf_mat=cm, figsize=(8,8),class_names=class_names)"
   ]
  },
  {
   "cell_type": "code",
   "execution_count": 51,
   "id": "ef662cfd",
   "metadata": {},
   "outputs": [
    {
     "name": "stdout",
     "output_type": "stream",
     "text": [
      "                      precision    recall  f1-score   support\n",
      "\n",
      "Cercospora Leaf Spot       1.00      1.00      1.00        11\n",
      "    Common Leaf Spot       1.00      0.90      0.95        10\n",
      "             Healthy       1.00      1.00      1.00        10\n",
      "         Leaf Blight       1.00      1.00      1.00        18\n",
      "        Leaf Scortch       0.92      1.00      0.96        11\n",
      "\n",
      "            accuracy                           0.98        60\n",
      "           macro avg       0.98      0.98      0.98        60\n",
      "        weighted avg       0.98      0.98      0.98        60\n",
      "\n"
     ]
    }
   ],
   "source": [
    "print(classification_report(actual_labels,predicted_labels))"
   ]
  },
  {
   "cell_type": "code",
   "execution_count": 33,
   "id": "8209192a",
   "metadata": {},
   "outputs": [
    {
     "name": "stderr",
     "output_type": "stream",
     "text": [
      "WARNING:absl:Found untraced functions such as _jit_compiled_convolution_op, _jit_compiled_convolution_op, _jit_compiled_convolution_op, _jit_compiled_convolution_op, _jit_compiled_convolution_op while saving (showing 5 of 6). These functions will not be directly callable after loading.\n"
     ]
    },
    {
     "name": "stdout",
     "output_type": "stream",
     "text": [
      "INFO:tensorflow:Assets written to: models/2\\assets\n"
     ]
    },
    {
     "name": "stderr",
     "output_type": "stream",
     "text": [
      "INFO:tensorflow:Assets written to: models/2\\assets\n"
     ]
    }
   ],
   "source": [
    "\n",
    "model_version=max([int(i) for i in os.listdir(\"../models\") + [0]])+1\n",
    "model.save(f\"models/{model_version}\")"
   ]
  },
  {
   "cell_type": "code",
   "execution_count": 52,
   "id": "ead86996",
   "metadata": {},
   "outputs": [
    {
     "name": "stderr",
     "output_type": "stream",
     "text": [
      "WARNING:absl:Found untraced functions such as _jit_compiled_convolution_op, _jit_compiled_convolution_op, _jit_compiled_convolution_op, _jit_compiled_convolution_op, _jit_compiled_convolution_op while saving (showing 5 of 6). These functions will not be directly callable after loading.\n"
     ]
    },
    {
     "name": "stdout",
     "output_type": "stream",
     "text": [
      "INFO:tensorflow:Assets written to: C:\\Users\\isaia\\AppData\\Local\\Temp\\tmpsmer9qe1\\assets\n"
     ]
    },
    {
     "name": "stderr",
     "output_type": "stream",
     "text": [
      "INFO:tensorflow:Assets written to: C:\\Users\\isaia\\AppData\\Local\\Temp\\tmpsmer9qe1\\assets\n"
     ]
    }
   ],
   "source": [
    "converter = tf.lite.TFLiteConverter.from_keras_model(model)\n",
    "tflite_model = converter.convert()\n",
    "\n",
    "# Save the model.\n",
    "with open('model2.tflite', 'wb') as f:\n",
    "  f.write(tflite_model)"
   ]
  },
  {
   "cell_type": "code",
   "execution_count": null,
   "id": "2085dbdf-10c2-4d53-90d9-52c78c122478",
   "metadata": {},
   "outputs": [],
   "source": []
  }
 ],
 "metadata": {
  "kernelspec": {
   "display_name": "Python 3 (ipykernel)",
   "language": "python",
   "name": "python3"
  },
  "language_info": {
   "codemirror_mode": {
    "name": "ipython",
    "version": 3
   },
   "file_extension": ".py",
   "mimetype": "text/x-python",
   "name": "python",
   "nbconvert_exporter": "python",
   "pygments_lexer": "ipython3",
   "version": "3.10.13"
  }
 },
 "nbformat": 4,
 "nbformat_minor": 5
}
